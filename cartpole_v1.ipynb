{
 "cells": [
  {
   "cell_type": "code",
   "execution_count": 2,
   "metadata": {},
   "outputs": [],
   "source": [
    "import gym\n",
    "import numpy as np\n",
    "from sklearn.preprocessing import KBinsDiscretizer\n",
    "import time, math, random\n",
    "from typing import Tuple\n",
    "import tqdm\n",
    "import matplotlib.pyplot as plt"
   ]
  },
  {
   "cell_type": "markdown",
   "metadata": {},
   "source": [
    "## Q-Learning\n",
    "\n",
    "#### q(s,a) = q(sa-a) + lr(r+ymaxq(s',a')) ymax: Discount factor (0,1) a': Future action s': Future state\n"
   ]
  },
  {
   "cell_type": "code",
   "execution_count": 3,
   "metadata": {},
   "outputs": [
    {
     "name": "stderr",
     "output_type": "stream",
     "text": [
      "[2022-10-18 10:48:52,869] Making new env: CartPole-v1\n"
     ]
    },
    {
     "name": "stdout",
     "output_type": "stream",
     "text": [
      "Action space:  2\n"
     ]
    },
    {
     "name": "stderr",
     "output_type": "stream",
     "text": [
      "/home/karoline/OneDrive/Emner/Semester 5/Maskinlæring/Exercise7/reinf-env/lib/python3.10/site-packages/gym/envs/registration.py:17: PkgResourcesDeprecationWarning: Parameters to load are deprecated.  Call .resolve and .require separately.\n",
      "  result = entry_point.load(False)\n"
     ]
    }
   ],
   "source": [
    "environment = gym.make('CartPole-v1')\n",
    "\n",
    "#Q-table\n",
    "#Actions: left - right\n",
    "print(\"Action space: \", environment.action_space.n)"
   ]
  },
  {
   "cell_type": "code",
   "execution_count": 4,
   "metadata": {},
   "outputs": [],
   "source": [
    "class CartPoleAgent:\n",
    "    def __init__(self, env, episodes):\n",
    "        self.env = env\n",
    "        # One table: actions * possible angles, second: actions*pole_vels\n",
    "        self.n_bins = (6, 12)\n",
    "        self.q_table = np.zeros(self.n_bins + (env.action_space.n, ))\n",
    "        self.lower_bounds = [env.observation_space.low[2], -math.radians(50)]\n",
    "        self.upper_bounds = [env.observation_space.high[2], math.radians(50)]\n",
    "        self.lr = 0.1\n",
    "        self.min_lr_rate = 0.1\n",
    "        self.min_explo_rate=0.1\n",
    "        self.decay = 24\n",
    "        self.discount = 1.0\n",
    "        self.episodes = episodes\n",
    "\n",
    "    #Gets dsicrete value since the original state is contionus (time)\n",
    "    def get_discrete(self, state):\n",
    "        _, __, angle, pole_vel = state\n",
    "        est = KBinsDiscretizer(n_bins=self.n_bins, encode='ordinal', strategy='uniform')\n",
    "        est.fit([self.lower_bounds, self.upper_bounds])\n",
    "        return tuple(map(int, est.transform([[angle, pole_vel]])[0]))\n",
    "    # Returns the policy used for getting the next action (highest value in q table next)\n",
    "    def get_policy(self, state):\n",
    "        return np.argmax(self.q_table[state])\n",
    "\n",
    "    #Q function used to update the prev q-value\n",
    "    def update_q_value(self, reward, state, action, new_state):\n",
    "        return self.lr * (reward + self.discount * np.max(self.q_table[new_state]) - self.q_table[state][action])\n",
    "\n",
    "    #Adaptive lr. Used to adapt the learning rate\n",
    "    def get_lr(self, n):\n",
    "        return max(self.min_lr_rate, min(1.0, 1.0 - math.log10((n+1) / self.decay)))\n",
    "\n",
    "    #Decaying explo rate/epsilon\n",
    "    def get_explo_rate(self, n):\n",
    "        return max(self.min_explo_rate, min(1.0, 1.0 - math.log10((n+1) / self.decay)))\n",
    "\n",
    "    def train(self):\n",
    "        scores = []\n",
    "        for e in tqdm.tqdm(range(self.episodes)):\n",
    "            current_state = self.get_discrete(self.env.reset())\n",
    "            self.lr = self.get_lr(e)\n",
    "            done = False\n",
    "            #Tracks how many inputs it survives\n",
    "            score = 0\n",
    "            while not done:\n",
    "                action = self.get_policy(current_state)\n",
    "\n",
    "                #Random action (exploration). Every x amount of times the agent should do a random action\n",
    "                if np.random.random() <= self.get_explo_rate(e):\n",
    "                    action = self.env.action_space.sample()\n",
    "\n",
    "                #After each step an observable state, reward and if it is done is returned\n",
    "                obs, reward, done, _ = self.env.step(action)\n",
    "                #Discretes the new state\n",
    "                new_state = self.get_discrete(obs)\n",
    "\n",
    "                #Gets new q-value\n",
    "                #learnt_value = self.update_q_value(reward, current_state, action, new_state)\n",
    "                self.q_table[current_state][action] += self.update_q_value(reward, current_state, action, new_state)\n",
    "                #Gets old val from q-table\n",
    "\n",
    "                current_state = new_state\n",
    "                #For each loop it statys above 12 degs, it adds to the score\n",
    "                score += 1\n",
    "\n",
    "            scores.append(score)\n",
    "\n",
    "        #print(scores)\n",
    "        print(\"Training done!\")\n",
    "        return scores"
   ]
  },
  {
   "cell_type": "code",
   "execution_count": 6,
   "metadata": {},
   "outputs": [
    {
     "name": "stderr",
     "output_type": "stream",
     "text": [
      " 43%|████▎     | 856/2000 [00:53<01:36, 11.91it/s]"
     ]
    }
   ],
   "source": [
    "import warnings\n",
    "warnings.filterwarnings('ignore')\n",
    "model = CartPoleAgent(environment, episodes=2000)\n",
    "scores = model.train()\n",
    "\n",
    "print(scores)\n",
    "print(model.get_discrete_state())\n",
    "\n"
   ]
  }
 ],
 "metadata": {
  "kernelspec": {
   "display_name": "Python 3.10.6 64-bit",
   "language": "python",
   "name": "python3"
  },
  "language_info": {
   "codemirror_mode": {
    "name": "ipython",
    "version": 3
   },
   "file_extension": ".py",
   "mimetype": "text/x-python",
   "name": "python",
   "nbconvert_exporter": "python",
   "pygments_lexer": "ipython3",
   "version": "3.10.6"
  },
  "orig_nbformat": 4,
  "vscode": {
   "interpreter": {
    "hash": "916dbcbb3f70747c44a77c7bcd40155683ae19c65e1c03b4aa3499c5328201f1"
   }
  }
 },
 "nbformat": 4,
 "nbformat_minor": 2
}
